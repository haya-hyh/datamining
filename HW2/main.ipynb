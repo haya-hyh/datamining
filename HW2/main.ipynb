{
 "cells": [
  {
   "cell_type": "code",
   "execution_count": 1,
   "metadata": {},
   "outputs": [],
   "source": [
    "import readfile\n",
    "import aprioritid as aptid\n",
    "import time"
   ]
  },
  {
   "cell_type": "code",
   "execution_count": 2,
   "metadata": {},
   "outputs": [],
   "source": [
    "transactions = readfile.read_dataset('T10I4D100K.dat')\n",
    "min_support = 1000\n",
    "min_confidence = 0.1"
   ]
  },
  {
   "cell_type": "code",
   "execution_count": 3,
   "metadata": {},
   "outputs": [
    {
     "name": "stdout",
     "output_type": "stream",
     "text": [
      "1731924688.0606182\n",
      "3208.288287639618\n",
      "1731927897.844925\n",
      "0.2868921756744385\n",
      "1731927898.1328228\n",
      "0.0\n"
     ]
    }
   ],
   "source": [
    "#tid part\n",
    "Start_time_aprioritid = time.time()\n",
    "apriori_tid = aptid.AprioriTid(min_support, min_confidence)\n",
    "apriori_tid.apriori_search(transactions)\n",
    "Stop_time_aprioritid = time.time()"
   ]
  },
  {
   "cell_type": "code",
   "execution_count": 7,
   "metadata": {},
   "outputs": [
    {
     "name": "stdout",
     "output_type": "stream",
     "text": [
      "Frequent 1-itemsets: 375\n",
      "Frequent 2-itemsets: 9\n",
      "Frequent 3-itemsets: 1\n"
     ]
    }
   ],
   "source": [
    "for i, frequent_itemsets in enumerate(apriori_tid.frequent_itemset_list):\n",
    "    print(f\"Frequent {i + 1}-itemsets: {len(frequent_itemsets)}\")"
   ]
  },
  {
   "cell_type": "code",
   "execution_count": 10,
   "metadata": {},
   "outputs": [
    {
     "data": {
      "text/plain": [
       "53.5839205622673"
      ]
     },
     "execution_count": 10,
     "metadata": {},
     "output_type": "execute_result"
    }
   ],
   "source": [
    "time_taken = Stop_time_aprioritid - Start_time_aprioritid\n",
    "time_taken/60"
   ]
  },
  {
   "cell_type": "code",
   "execution_count": 11,
   "metadata": {},
   "outputs": [
    {
     "data": {
      "text/plain": [
       "0.0061151981353759766"
      ]
     },
     "execution_count": 11,
     "metadata": {},
     "output_type": "execute_result"
    }
   ],
   "source": [
    "Start_time_rule = time.time()\n",
    "apriori_tid.generate_rule()\n",
    "end_time_rule = time.time()\n",
    "time_rule = end_time_rule - Start_time_rule\n",
    "time_rule"
   ]
  },
  {
   "cell_type": "code",
   "execution_count": 12,
   "metadata": {},
   "outputs": [
    {
     "name": "stdout",
     "output_type": "stream",
     "text": [
      "[(frozenset({825}), frozenset({39}), 0.3847649918962723), (frozenset({39}), frozenset({825}), 0.27876937529356505), (frozenset({704}), frozenset({39}), 0.617056856187291), (frozenset({39}), frozenset({704}), 0.259981211836543), (frozenset({704}), frozenset({825}), 0.6142697881828316), (frozenset({825}), frozenset({704}), 0.35721231766612643), (frozenset({227}), frozenset({390}), 0.577007700770077), (frozenset({390}), frozenset({227}), 0.3906890130353817), (frozenset({829}), frozenset({789}), 0.17533039647577092), (frozenset({789}), frozenset({829}), 0.27709445346948247), (frozenset({368}), frozenset({829}), 0.15252938170669392), (frozenset({829}), frozenset({368}), 0.17533039647577092), (frozenset({217}), frozenset({346}), 0.24855813953488373), (frozenset({346}), frozenset({217}), 0.385014409221902), (frozenset({368}), frozenset({682}), 0.15240163515585078), (frozenset({682}), frozenset({368}), 0.2887221684414327), (frozenset({722}), frozenset({390}), 0.17827202737382378), (frozenset({390}), frozenset({722}), 0.3880819366852886), (frozenset({704}), frozenset({825, 39}), 0.5769230769230769), (frozenset({825}), frozenset({704, 39}), 0.3354943273905997), (frozenset({39}), frozenset({704, 825}), 0.2430718647252231), (frozenset({704, 825}), frozenset({39}), 0.9392014519056261), (frozenset({704, 39}), frozenset({825}), 0.9349593495934959), (frozenset({825, 39}), frozenset({704}), 0.8719460825610783), (frozenset({825}), frozenset({39}), 0.3847649918962723), (frozenset({39}), frozenset({825}), 0.27876937529356505), (frozenset({704}), frozenset({39}), 0.617056856187291), (frozenset({39}), frozenset({704}), 0.259981211836543), (frozenset({704}), frozenset({825}), 0.6142697881828316), (frozenset({825}), frozenset({704}), 0.35721231766612643), (frozenset({227}), frozenset({390}), 0.577007700770077), (frozenset({390}), frozenset({227}), 0.3906890130353817), (frozenset({829}), frozenset({789}), 0.17533039647577092), (frozenset({789}), frozenset({829}), 0.27709445346948247), (frozenset({368}), frozenset({829}), 0.15252938170669392), (frozenset({829}), frozenset({368}), 0.17533039647577092), (frozenset({217}), frozenset({346}), 0.24855813953488373), (frozenset({346}), frozenset({217}), 0.385014409221902), (frozenset({368}), frozenset({682}), 0.15240163515585078), (frozenset({682}), frozenset({368}), 0.2887221684414327), (frozenset({722}), frozenset({390}), 0.17827202737382378), (frozenset({390}), frozenset({722}), 0.3880819366852886), (frozenset({704}), frozenset({825, 39}), 0.5769230769230769), (frozenset({825}), frozenset({704, 39}), 0.3354943273905997), (frozenset({39}), frozenset({704, 825}), 0.2430718647252231), (frozenset({704, 825}), frozenset({39}), 0.9392014519056261), (frozenset({704, 39}), frozenset({825}), 0.9349593495934959), (frozenset({825, 39}), frozenset({704}), 0.8719460825610783), (frozenset({825}), frozenset({39}), 0.3847649918962723), (frozenset({39}), frozenset({825}), 0.27876937529356505), (frozenset({704}), frozenset({39}), 0.617056856187291), (frozenset({39}), frozenset({704}), 0.259981211836543), (frozenset({704}), frozenset({825}), 0.6142697881828316), (frozenset({825}), frozenset({704}), 0.35721231766612643), (frozenset({227}), frozenset({390}), 0.577007700770077), (frozenset({390}), frozenset({227}), 0.3906890130353817), (frozenset({829}), frozenset({789}), 0.17533039647577092), (frozenset({789}), frozenset({829}), 0.27709445346948247), (frozenset({368}), frozenset({829}), 0.15252938170669392), (frozenset({829}), frozenset({368}), 0.17533039647577092), (frozenset({217}), frozenset({346}), 0.24855813953488373), (frozenset({346}), frozenset({217}), 0.385014409221902), (frozenset({368}), frozenset({682}), 0.15240163515585078), (frozenset({682}), frozenset({368}), 0.2887221684414327), (frozenset({722}), frozenset({390}), 0.17827202737382378), (frozenset({390}), frozenset({722}), 0.3880819366852886), (frozenset({704}), frozenset({825, 39}), 0.5769230769230769), (frozenset({825}), frozenset({704, 39}), 0.3354943273905997), (frozenset({39}), frozenset({704, 825}), 0.2430718647252231), (frozenset({704, 825}), frozenset({39}), 0.9392014519056261), (frozenset({704, 39}), frozenset({825}), 0.9349593495934959), (frozenset({825, 39}), frozenset({704}), 0.8719460825610783)]\n"
     ]
    }
   ],
   "source": [
    "print(apriori_tid.rules)"
   ]
  },
  {
   "cell_type": "code",
   "execution_count": null,
   "metadata": {},
   "outputs": [],
   "source": []
  }
 ],
 "metadata": {
  "kernelspec": {
   "display_name": "Python 3",
   "language": "python",
   "name": "python3"
  },
  "language_info": {
   "codemirror_mode": {
    "name": "ipython",
    "version": 3
   },
   "file_extension": ".py",
   "mimetype": "text/x-python",
   "name": "python",
   "nbconvert_exporter": "python",
   "pygments_lexer": "ipython3",
   "version": "3.11.5"
  }
 },
 "nbformat": 4,
 "nbformat_minor": 2
}
