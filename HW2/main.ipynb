{
 "cells": [
  {
   "cell_type": "code",
   "execution_count": 1,
   "metadata": {},
   "outputs": [],
   "source": [
    "import readfile\n",
    "import aprioritid as aptid\n",
    "import time"
   ]
  },
  {
   "cell_type": "code",
   "execution_count": 2,
   "metadata": {},
   "outputs": [],
   "source": [
    "transactions = readfile.read_dataset('T10I4D100K.dat')\n",
    "min_support = 1000\n",
    "min_confidence = 0.1"
   ]
  },
  {
   "cell_type": "code",
   "execution_count": 3,
   "metadata": {},
   "outputs": [],
   "source": [
    "#tid part\n",
    "Start_time_aprioritid = time.time()\n",
    "apriori_tid = aptid.AprioriTid(min_support, min_confidence)\n",
    "apriori_tid.apriori_search(transactions)\n",
    "Stop_time_aprioritid = time.time()"
   ]
  },
  {
   "cell_type": "code",
   "execution_count": 4,
   "metadata": {},
   "outputs": [
    {
     "name": "stdout",
     "output_type": "stream",
     "text": [
      "Frequent 1-itemsets: 375\n",
      "Frequent 2-itemsets: 9\n"
     ]
    }
   ],
   "source": [
    "for i, frequent_itemsets in enumerate(apriori_tid.frequent_itemset_list):\n",
    "    print(f\"Frequent {i + 1}-itemsets: {len(frequent_itemsets)}\")"
   ]
  },
  {
   "cell_type": "code",
   "execution_count": 5,
   "metadata": {},
   "outputs": [],
   "source": [
    "Start_time_rule = time.time()\n",
    "apriori_tid.generate_rule()\n",
    "end_time_rule = time.time()"
   ]
  },
  {
   "cell_type": "code",
   "execution_count": 6,
   "metadata": {},
   "outputs": [
    {
     "name": "stdout",
     "output_type": "stream",
     "text": [
      "{frozenset({25}): 1395, frozenset({52}): 1983, frozenset({240}): 1399, frozenset({274}): 2628, frozenset({368}): 7828, frozenset({448}): 1370, frozenset({538}): 3982, frozenset({561}): 2783, frozenset({630}): 1523, frozenset({687}): 1762, frozenset({775}): 3771, frozenset({825}): 3085, frozenset({834}): 1373, frozenset({39}): 4258, frozenset({120}): 4973, frozenset({205}): 3605, frozenset({401}): 3667, frozenset({581}): 2943, frozenset({704}): 1794, frozenset({814}): 1672, frozenset({35}): 1984, frozenset({674}): 2527, frozenset({733}): 1141, frozenset({854}): 2847, frozenset({950}): 1463, frozenset({422}): 1255, frozenset({449}): 1890, frozenset({857}): 1588, frozenset({895}): 3385, frozenset({937}): 4681, frozenset({964}): 1518, frozenset({229}): 2281, frozenset({283}): 4082, frozenset({294}): 1445, frozenset({381}): 2959, frozenset({708}): 1090, frozenset({738}): 2129, frozenset({766}): 6265, frozenset({853}): 1804, frozenset({883}): 4902, frozenset({966}): 3921, frozenset({978}): 1141, frozenset({104}): 1158, frozenset({143}): 1417, frozenset({569}): 2835, frozenset({620}): 2100, frozenset({798}): 3103, frozenset({185}): 1529, frozenset({214}): 1893, frozenset({350}): 3069, frozenset({529}): 7057, frozenset({658}): 1881, frozenset({682}): 4132, frozenset({782}): 2767, frozenset({809}): 2163, frozenset({947}): 3690, frozenset({970}): 2086, frozenset({227}): 1818, frozenset({390}): 2685, frozenset({71}): 3507, frozenset({192}): 2004, frozenset({208}): 1483, frozenset({279}): 3014, frozenset({280}): 2108, frozenset({496}): 1428, frozenset({530}): 1263, frozenset({597}): 2883, frozenset({618}): 1337, frozenset({675}): 2976, frozenset({720}): 3864, frozenset({914}): 4037, frozenset({932}): 1786, frozenset({183}): 3883, frozenset({217}): 5375, frozenset({276}): 2479, frozenset({653}): 2634, frozenset({706}): 1923, frozenset({878}): 2047, frozenset({161}): 2320, frozenset({175}): 2791, frozenset({177}): 4629, frozenset({424}): 1448, frozenset({490}): 1066, frozenset({571}): 2902, frozenset({623}): 1845, frozenset({795}): 3361, frozenset({910}): 1695, frozenset({960}): 2732, frozenset({125}): 1287, frozenset({130}): 1711, frozenset({392}): 2420, frozenset({461}): 1498, frozenset({862}): 3649, frozenset({27}): 2165, frozenset({78}): 2471, frozenset({900}): 1165, frozenset({921}): 2425, frozenset({147}): 1383, frozenset({411}): 2047, frozenset({572}): 1589, frozenset({579}): 2164, frozenset({778}): 2514, frozenset({803}): 2237, frozenset({266}): 1022, frozenset({290}): 1793, frozenset({458}): 1124, frozenset({523}): 2244, frozenset({614}): 3134, frozenset({888}): 3686, frozenset({944}): 2794, frozenset({43}): 1721, frozenset({70}): 2411, frozenset({204}): 2174, frozenset({334}): 2146, frozenset({480}): 2309, frozenset({513}): 1287, frozenset({874}): 2237, frozenset({151}): 2611, frozenset({504}): 1296, frozenset({890}): 1437, frozenset({73}): 2179, frozenset({310}): 1390, frozenset({419}): 5057, frozenset({469}): 1502, frozenset({722}): 5845, frozenset({810}): 1267, frozenset({844}): 2814, frozenset({846}): 1480, frozenset({918}): 3012, frozenset({967}): 1695, frozenset({326}): 1488, frozenset({403}): 1722, frozenset({526}): 2793, frozenset({774}): 2046, frozenset({788}): 2386, frozenset({789}): 4309, frozenset({975}): 1764, frozenset({116}): 2193, frozenset({198}): 1461, frozenset({201}): 1029, frozenset({171}): 1097, frozenset({541}): 3735, frozenset({701}): 1283, frozenset({805}): 1789, frozenset({946}): 1350, frozenset({471}): 2894, frozenset({487}): 3135, frozenset({631}): 2793, frozenset({638}): 2288, frozenset({678}): 1329, frozenset({735}): 1689, frozenset({780}): 2306, frozenset({935}): 1742, frozenset({17}): 1683, frozenset({242}): 2325, frozenset({758}): 2860, frozenset({763}): 1862, frozenset({956}): 3626, frozenset({145}): 4559, frozenset({385}): 1676, frozenset({676}): 2717, frozenset({790}): 1094, frozenset({792}): 1306, frozenset({885}): 3043, frozenset({522}): 2725, frozenset({617}): 2614, frozenset({859}): 1242, frozenset({12}): 3415, frozenset({296}): 2210, frozenset({354}): 5835, frozenset({548}): 2843, frozenset({684}): 5408, frozenset({740}): 1632, frozenset({841}): 1927, frozenset({210}): 2009, frozenset({346}): 3470, frozenset({477}): 2462, frozenset({605}): 1652, frozenset({829}): 6810, frozenset({884}): 1645, frozenset({234}): 1416, frozenset({460}): 4438, frozenset({649}): 1292, frozenset({746}): 1982, frozenset({600}): 1192, frozenset({28}): 1454, frozenset({157}): 1140, frozenset({5}): 1094, frozenset({115}): 1775, frozenset({517}): 1201, frozenset({736}): 1470, frozenset({744}): 2177, frozenset({919}): 3710, frozenset({196}): 2096, frozenset({489}): 3420, frozenset({494}): 5102, frozenset({641}): 1494, frozenset({673}): 1635, frozenset({362}): 4388, frozenset({591}): 1241, frozenset({31}): 1666, frozenset({58}): 1330, frozenset({181}): 1235, frozenset({472}): 2125, frozenset({573}): 1229, frozenset({628}): 1102, frozenset({651}): 1288, frozenset({111}): 1171, frozenset({154}): 1447, frozenset({168}): 1538, frozenset({580}): 1667, frozenset({632}): 1070, frozenset({832}): 2062, frozenset({871}): 2810, frozenset({988}): 1164, frozenset({72}): 2852, frozenset({981}): 1542, frozenset({10}): 1351, frozenset({132}): 2641, frozenset({21}): 2666, frozenset({32}): 4248, frozenset({54}): 2595, frozenset({239}): 2742, frozenset({348}): 1226, frozenset({100}): 1749, frozenset({500}): 1444, frozenset({48}): 2472, frozenset({126}): 1075, frozenset({319}): 1371, frozenset({639}): 1572, frozenset({765}): 1705, frozenset({521}): 1582, frozenset({112}): 2680, frozenset({140}): 2687, frozenset({285}): 2600, frozenset({387}): 2089, frozenset({511}): 1015, frozenset({594}): 1516, frozenset({93}): 2777, frozenset({583}): 1389, frozenset({606}): 2668, frozenset({236}): 2618, frozenset({952}): 1574, frozenset({90}): 1875, frozenset({593}): 2601, frozenset({941}): 1126, frozenset({122}): 1081, frozenset({718}): 1238, frozenset({1}): 1535, frozenset({423}): 1412, frozenset({516}): 1544, frozenset({6}): 2149, frozenset({69}): 2370, frozenset({797}): 2684, frozenset({913}): 1939, frozenset({577}): 1695, frozenset({110}): 1801, frozenset({509}): 3044, frozenset({611}): 1444, frozenset({995}): 1521, frozenset({343}): 1599, frozenset({527}): 1185, frozenset({33}): 1460, frozenset({336}): 1071, frozenset({989}): 1289, frozenset({97}): 1466, frozenset({574}): 1297, frozenset({793}): 3063, frozenset({598}): 3219, frozenset({427}): 1856, frozenset({470}): 4137, frozenset({37}): 1249, frozenset({992}): 1116, frozenset({55}): 1959, frozenset({897}): 1935, frozenset({275}): 1692, frozenset({51}): 1612, frozenset({259}): 1522, frozenset({45}): 1728, frozenset({162}): 1450, frozenset({378}): 1149, frozenset({534}): 1531, frozenset({906}): 1444, frozenset({912}): 1009, frozenset({576}): 1337, frozenset({373}): 2007, frozenset({716}): 1199, frozenset({546}): 1050, frozenset({665}): 1297, frozenset({963}): 1327, frozenset({349}): 2041, frozenset({8}): 3090, frozenset({197}): 1230, frozenset({413}): 2637, frozenset({749}): 1330, frozenset({823}): 1031, frozenset({94}): 1201, frozenset({982}): 1640, frozenset({984}): 1756, frozenset({515}): 1166, frozenset({692}): 4993, frozenset({694}): 2847, frozenset({567}): 1102, frozenset({57}): 2743, frozenset({800}): 1916, frozenset({812}): 1518, frozenset({41}): 1353, frozenset({414}): 1160, frozenset({923}): 1753, frozenset({377}): 1149, frozenset({752}): 2578, frozenset({991}): 1268, frozenset({998}): 2713, frozenset({899}): 1252, frozenset({710}): 1044, frozenset({867}): 1530, frozenset({170}): 1203, frozenset({438}): 4511, frozenset({563}): 1065, frozenset({357}): 1142, frozenset({332}): 1861, frozenset({361}): 1104, frozenset({322}): 1154, frozenset({928}): 1034, frozenset({75}): 3151, frozenset({486}): 1547, frozenset({440}): 1943, frozenset({38}): 2402, frozenset({784}): 1257, frozenset({265}): 1359, frozenset({686}): 1495, frozenset({540}): 1293, frozenset({468}): 1089, frozenset({663}): 2354, frozenset({819}): 1257, frozenset({886}): 3053, frozenset({429}): 1037, frozenset({843}): 1222, frozenset({129}): 1547, frozenset({578}): 1290, frozenset({510}): 3281, frozenset({68}): 1601, frozenset({860}): 1255, frozenset({4}): 1394, frozenset({887}): 1671, frozenset({309}): 1262, frozenset({804}): 1315, frozenset({325}): 1022, frozenset({826}): 2022, frozenset({394}): 1145, frozenset({707}): 1354, frozenset({105}): 1100, frozenset({815}): 1358, frozenset({948}): 1149, frozenset({308}): 1402, frozenset({661}): 2693, frozenset({634}): 2492, frozenset({351}): 1641, frozenset({405}): 1525, frozenset({688}): 1132, frozenset({949}): 1414, frozenset({163}): 1256, frozenset({893}): 1947, frozenset({335}): 1345, frozenset({173}): 1080, frozenset({258}): 1036, frozenset({85}): 1555, frozenset({450}): 2082, frozenset({428}): 1021, frozenset({550}): 1203, frozenset({769}): 1622, frozenset({554}): 1114, frozenset({366}): 1031, frozenset({820}): 1473, frozenset({207}): 1214, frozenset({825, 39}): 1187, frozenset({704, 39}): 1107, frozenset({704, 825}): 1102, frozenset({227, 390}): 1049, frozenset({829, 789}): 1194, frozenset({368, 829}): 1194, frozenset({217, 346}): 1336, frozenset({368, 682}): 1193, frozenset({722, 390}): 1042}\n",
      "[(frozenset({825}), frozenset({39}), 0.3847649918962723), (frozenset({39}), frozenset({825}), 0.27876937529356505), (frozenset({704}), frozenset({39}), 0.617056856187291), (frozenset({39}), frozenset({704}), 0.259981211836543), (frozenset({704}), frozenset({825}), 0.6142697881828316), (frozenset({825}), frozenset({704}), 0.35721231766612643), (frozenset({227}), frozenset({390}), 0.577007700770077), (frozenset({390}), frozenset({227}), 0.3906890130353817), (frozenset({829}), frozenset({789}), 0.17533039647577092), (frozenset({789}), frozenset({829}), 0.27709445346948247), (frozenset({368}), frozenset({829}), 0.15252938170669392), (frozenset({829}), frozenset({368}), 0.17533039647577092), (frozenset({217}), frozenset({346}), 0.24855813953488373), (frozenset({346}), frozenset({217}), 0.385014409221902), (frozenset({368}), frozenset({682}), 0.15240163515585078), (frozenset({682}), frozenset({368}), 0.2887221684414327), (frozenset({722}), frozenset({390}), 0.17827202737382378), (frozenset({390}), frozenset({722}), 0.3880819366852886)]\n"
     ]
    }
   ],
   "source": [
    "print(apriori_tid.support_info)\n",
    "print(apriori_tid.rules)"
   ]
  },
  {
   "cell_type": "code",
   "execution_count": null,
   "metadata": {},
   "outputs": [],
   "source": []
  }
 ],
 "metadata": {
  "kernelspec": {
   "display_name": "Python 3",
   "language": "python",
   "name": "python3"
  },
  "language_info": {
   "codemirror_mode": {
    "name": "ipython",
    "version": 3
   },
   "file_extension": ".py",
   "mimetype": "text/x-python",
   "name": "python",
   "nbconvert_exporter": "python",
   "pygments_lexer": "ipython3",
   "version": "3.11.5"
  }
 },
 "nbformat": 4,
 "nbformat_minor": 2
}
