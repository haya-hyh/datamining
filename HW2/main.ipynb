{
 "cells": [
  {
   "cell_type": "code",
   "execution_count": 1,
   "metadata": {},
   "outputs": [],
   "source": [
    "import readfile\n",
    "import aprioritid as aptid\n",
    "import time"
   ]
  },
  {
   "cell_type": "code",
   "execution_count": 2,
   "metadata": {},
   "outputs": [],
   "source": [
    "# parameters\n",
    "transactions = readfile.read_dataset('T10I4D100K.dat')\n",
    "min_support = 1000\n",
    "min_confidence = 0.5"
   ]
  },
  {
   "cell_type": "code",
   "execution_count": 3,
   "metadata": {},
   "outputs": [],
   "source": [
    "#tid part\n",
    "Start_time_aprioritid = time.time()\n",
    "apriori_tid = aptid.AprioriTid(min_support, min_confidence)\n",
    "apriori_tid.apriori_search(transactions)\n",
    "Stop_time_aprioritid = time.time()"
   ]
  },
  {
   "cell_type": "code",
   "execution_count": 4,
   "metadata": {},
   "outputs": [
    {
     "name": "stdout",
     "output_type": "stream",
     "text": [
      "Frequent 1-itemsets: 375\n",
      "Frequent 2-itemsets: 9\n",
      "Frequent 3-itemsets: 1\n"
     ]
    }
   ],
   "source": [
    "for i, frequent_itemsets in enumerate(apriori_tid.frequent_itemset_list):\n",
    "    print(f\"Frequent {i + 1}-itemsets: {len(frequent_itemsets)}\")"
   ]
  },
  {
   "cell_type": "code",
   "execution_count": 5,
   "metadata": {},
   "outputs": [
    {
     "data": {
      "text/plain": [
       "68.5572191953659"
      ]
     },
     "execution_count": 5,
     "metadata": {},
     "output_type": "execute_result"
    }
   ],
   "source": [
    "time_taken = Stop_time_aprioritid - Start_time_aprioritid\n",
    "time_taken/60"
   ]
  },
  {
   "cell_type": "code",
   "execution_count": 6,
   "metadata": {},
   "outputs": [
    {
     "data": {
      "text/plain": [
       "0.0"
      ]
     },
     "execution_count": 6,
     "metadata": {},
     "output_type": "execute_result"
    }
   ],
   "source": [
    "Start_time_rule = time.time()\n",
    "apriori_tid.generate_rule()\n",
    "end_time_rule = time.time()\n",
    "time_rule = end_time_rule - Start_time_rule\n",
    "time_rule"
   ]
  },
  {
   "cell_type": "code",
   "execution_count": 3,
   "metadata": {},
   "outputs": [
    {
     "ename": "NameError",
     "evalue": "name 'apriori_tid' is not defined",
     "output_type": "error",
     "traceback": [
      "\u001b[1;31m---------------------------------------------------------------------------\u001b[0m",
      "\u001b[1;31mNameError\u001b[0m                                 Traceback (most recent call last)",
      "Cell \u001b[1;32mIn[3], line 1\u001b[0m\n\u001b[1;32m----> 1\u001b[0m \u001b[38;5;28mprint\u001b[39m(\u001b[43mapriori_tid\u001b[49m\u001b[38;5;241m.\u001b[39mrules)\n",
      "\u001b[1;31mNameError\u001b[0m: name 'apriori_tid' is not defined"
     ]
    }
   ],
   "source": [
    "print(apriori_tid.rules)"
   ]
  },
  {
   "cell_type": "code",
   "execution_count": null,
   "metadata": {},
   "outputs": [
    {
     "ename": "NameError",
     "evalue": "name 'apriori_tid' is not defined",
     "output_type": "error",
     "traceback": [
      "\u001b[1;31m---------------------------------------------------------------------------\u001b[0m",
      "\u001b[1;31mNameError\u001b[0m                                 Traceback (most recent call last)",
      "Cell \u001b[1;32mIn[2], line 1\u001b[0m\n\u001b[1;32m----> 1\u001b[0m \u001b[38;5;28mprint\u001b[39m(\u001b[38;5;124mf\u001b[39m\u001b[38;5;124m\"\u001b[39m\u001b[38;5;124mFound \u001b[39m\u001b[38;5;132;01m{\u001b[39;00m\u001b[38;5;28mlen\u001b[39m(\u001b[43mapriori_tid\u001b[49m\u001b[38;5;241m.\u001b[39mrules)\u001b[38;5;132;01m}\u001b[39;00m\u001b[38;5;124m rules\u001b[39m\u001b[38;5;124m\"\u001b[39m)\n\u001b[0;32m      2\u001b[0m \u001b[38;5;28;01mfor\u001b[39;00m i \u001b[38;5;129;01min\u001b[39;00m apriori_tid\u001b[38;5;241m.\u001b[39mrules:\n\u001b[0;32m      3\u001b[0m     \u001b[38;5;28mprint\u001b[39m(i)\n",
      "\u001b[1;31mNameError\u001b[0m: name 'apriori_tid' is not defined"
     ]
    }
   ],
   "source": [
    "print(f\"Found {len(apriori_tid.rules)} rules\")\n",
    "# Format and print rules\n",
    "for antecedent, consequent, confidence in apriori_tid.rules:\n",
    "    antecedent_str = ', '.join(map(str, antecedent))  # Convert antecedent frozenset to a comma-separated string\n",
    "    consequent_str = ', '.join(map(str, consequent))  # Convert consequent frozenset to a comma-separated string\n",
    "    print(f\"({antecedent_str}) --> {{{consequent_str}}} = {confidence}\")\n"
   ]
  },
  {
   "cell_type": "code",
   "execution_count": null,
   "metadata": {},
   "outputs": [],
   "source": []
  }
 ],
 "metadata": {
  "kernelspec": {
   "display_name": "Python 3",
   "language": "python",
   "name": "python3"
  },
  "language_info": {
   "codemirror_mode": {
    "name": "ipython",
    "version": 3
   },
   "file_extension": ".py",
   "mimetype": "text/x-python",
   "name": "python",
   "nbconvert_exporter": "python",
   "pygments_lexer": "ipython3",
   "version": "3.11.5"
  }
 },
 "nbformat": 4,
 "nbformat_minor": 2
}
