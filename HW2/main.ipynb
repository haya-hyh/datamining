{
 "cells": [
  {
   "cell_type": "code",
   "execution_count": 1,
   "metadata": {},
   "outputs": [],
   "source": [
    "import readfile\n",
    "import aprioritid as aptid\n",
    "import time"
   ]
  },
  {
   "cell_type": "code",
   "execution_count": 2,
   "metadata": {},
   "outputs": [],
   "source": [
    "# parameters\n",
    "transactions = readfile.read_dataset('T10I4D100K.dat')\n",
    "min_support = 1000\n",
    "min_confidence = 0.5"
   ]
  },
  {
   "cell_type": "code",
   "execution_count": 3,
   "metadata": {},
   "outputs": [],
   "source": [
    "#tid part\n",
    "Start_time_aprioritid = time.time()\n",
    "apriori_tid = aptid.AprioriTid(min_support, min_confidence)\n",
    "apriori_tid.apriori_search(transactions)\n",
    "Stop_time_aprioritid = time.time()"
   ]
  },
  {
   "cell_type": "code",
   "execution_count": 4,
   "metadata": {},
   "outputs": [
    {
     "name": "stdout",
     "output_type": "stream",
     "text": [
      "Frequent 1-itemsets: 375\n",
      "Frequent 2-itemsets: 9\n",
      "Frequent 3-itemsets: 1\n"
     ]
    }
   ],
   "source": [
    "for i, frequent_itemsets in enumerate(apriori_tid.frequent_itemset_list):\n",
    "    print(f\"Frequent {i + 1}-itemsets: {len(frequent_itemsets)}\")"
   ]
  },
  {
   "cell_type": "code",
   "execution_count": 5,
   "metadata": {},
   "outputs": [
    {
     "data": {
      "text/plain": [
       "68.5572191953659"
      ]
     },
     "execution_count": 5,
     "metadata": {},
     "output_type": "execute_result"
    }
   ],
   "source": [
    "time_taken = Stop_time_aprioritid - Start_time_aprioritid\n",
    "time_taken/60"
   ]
  },
  {
   "cell_type": "code",
   "execution_count": 6,
   "metadata": {},
   "outputs": [
    {
     "data": {
      "text/plain": [
       "0.0"
      ]
     },
     "execution_count": 6,
     "metadata": {},
     "output_type": "execute_result"
    }
   ],
   "source": [
    "Start_time_rule = time.time()\n",
    "apriori_tid.generate_rule()\n",
    "end_time_rule = time.time()\n",
    "time_rule = end_time_rule - Start_time_rule\n",
    "time_rule"
   ]
  },
  {
   "cell_type": "code",
   "execution_count": 7,
   "metadata": {},
   "outputs": [
    {
     "name": "stdout",
     "output_type": "stream",
     "text": [
      "[(frozenset({704}), frozenset({39}), 0.617056856187291), (frozenset({704}), frozenset({825}), 0.6142697881828316), (frozenset({227}), frozenset({390}), 0.577007700770077), (frozenset({704}), frozenset({825, 39}), 0.5769230769230769), (frozenset({704, 825}), frozenset({39}), 0.9392014519056261), (frozenset({704, 39}), frozenset({825}), 0.9349593495934959), (frozenset({825, 39}), frozenset({704}), 0.8719460825610783)]\n"
     ]
    }
   ],
   "source": [
    "print(apriori_tid.rules)"
   ]
  },
  {
   "cell_type": "code",
   "execution_count": 12,
   "metadata": {},
   "outputs": [
    {
     "name": "stdout",
     "output_type": "stream",
     "text": [
      "Found 7 rules\n",
      "(704, 39) --> 0.617056856187291\n",
      "(704, 825) --> 0.6142697881828316\n",
      "(227, 390) --> 0.577007700770077\n",
      "(704, 825) --> 0.5769230769230769\n",
      "(704, 39) --> 0.9392014519056261\n",
      "(704, 825) --> 0.9349593495934959\n",
      "(825, 704) --> 0.8719460825610783\n"
     ]
    }
   ],
   "source": [
    "print(f\"Found {len(apriori_tid.rules)} rules\")\n",
    "for i in apriori_tid.rules:\n",
    "    antecedent = list(i[0])  # Convert frozenset to list\n",
    "    consequent = list(i[1])  # Convert frozenset to list\n",
    "    confidence = i[2]        # Extract confidence value\n",
    "    # Assuming single items in antecedent and consequent\n",
    "    print(f\"({antecedent[0]}, {consequent[0]}) --> {confidence}\")\n"
   ]
  },
  {
   "cell_type": "code",
   "execution_count": null,
   "metadata": {},
   "outputs": [],
   "source": []
  }
 ],
 "metadata": {
  "kernelspec": {
   "display_name": "Python 3",
   "language": "python",
   "name": "python3"
  },
  "language_info": {
   "codemirror_mode": {
    "name": "ipython",
    "version": 3
   },
   "file_extension": ".py",
   "mimetype": "text/x-python",
   "name": "python",
   "nbconvert_exporter": "python",
   "pygments_lexer": "ipython3",
   "version": "3.11.5"
  }
 },
 "nbformat": 4,
 "nbformat_minor": 2
}
