{
 "cells": [
  {
   "cell_type": "code",
   "execution_count": 1,
   "metadata": {},
   "outputs": [],
   "source": [
    "import readfile as rf\n",
    "import classtriez as cs\n",
    "import time\n",
    "import numpy as np\n",
    "import matplotlib.pyplot as plt"
   ]
  },
  {
   "cell_type": "code",
   "execution_count": 2,
   "metadata": {},
   "outputs": [],
   "source": [
    "dataset_path = \"web-Stanford.txt/web-Stanford.txt\"\n",
    "edges = rf.read_dataset(dataset_path)"
   ]
  },
  {
   "cell_type": "code",
   "execution_count": 23,
   "metadata": {},
   "outputs": [],
   "source": [
    "# Parameters\n",
    "sample_size = 10000\n",
    "num_runs = 5 \n",
    "true_triangle_num = 11329473  "
   ]
  },
  {
   "cell_type": "code",
   "execution_count": 46,
   "metadata": {},
   "outputs": [],
   "source": [
    "# Initialize results lists\n",
    "base_results = []\n",
    "base_differences = []"
   ]
  },
  {
   "cell_type": "code",
   "execution_count": 47,
   "metadata": {},
   "outputs": [
    {
     "name": "stdout",
     "output_type": "stream",
     "text": [
      "running...1/5: \n",
      "running...2/5: \n",
      "running...3/5: \n",
      "running...4/5: \n",
      "running...5/5: \n"
     ]
    }
   ],
   "source": [
    "# Run the experiments\n",
    "start_time = time.time()\n",
    "for run in range(num_runs):\n",
    "    print(f\"running...{run+1}/{num_runs}: \")\n",
    "    # Initialize algorithms for each run\n",
    "    triest_base = cs.TriestBase(sample_size)\n",
    "\n",
    "    # Process the stream\n",
    "    for edge in edges:\n",
    "        triest_base.process_edge(edge)\n",
    "\n",
    "    # Store results\n",
    "    base_results.append(triest_base.estimate())\n",
    "    base_differences.append(triest_base.estimate()/ true_triangle_num)\n",
    "\n",
    "\n",
    "end_time = time.time()"
   ]
  },
  {
   "cell_type": "code",
   "execution_count": 48,
   "metadata": {},
   "outputs": [
    {
     "data": {
      "text/plain": [
       "[24450556, 24449887, 36673064, 12224816, 24447626]"
      ]
     },
     "execution_count": 48,
     "metadata": {},
     "output_type": "execute_result"
    }
   ],
   "source": [
    "base_results"
   ]
  },
  {
   "cell_type": "code",
   "execution_count": 49,
   "metadata": {},
   "outputs": [
    {
     "data": {
      "text/plain": [
       "39.3668595790863"
      ]
     },
     "execution_count": 49,
     "metadata": {},
     "output_type": "execute_result"
    }
   ],
   "source": [
    "base_time_avg = (end_time - start_time) / num_runs\n",
    "base_time_avg"
   ]
  },
  {
   "cell_type": "code",
   "execution_count": 50,
   "metadata": {},
   "outputs": [
    {
     "data": {
      "text/plain": [
       "24449189.8"
      ]
     },
     "execution_count": 50,
     "metadata": {},
     "output_type": "execute_result"
    }
   ],
   "source": [
    "base_avg = sum(base_results) / num_runs\n",
    "base_avg"
   ]
  },
  {
   "cell_type": "code",
   "execution_count": 51,
   "metadata": {},
   "outputs": [
    {
     "data": {
      "text/plain": [
       "2.1580165114476197"
      ]
     },
     "execution_count": 51,
     "metadata": {},
     "output_type": "execute_result"
    }
   ],
   "source": [
    "base_avg_differences = sum(base_differences) / num_runs\n",
    "base_avg_differences"
   ]
  },
  {
   "cell_type": "code",
   "execution_count": 38,
   "metadata": {},
   "outputs": [],
   "source": [
    "impr_results = []\n",
    "impr_differences = []"
   ]
  },
  {
   "cell_type": "code",
   "execution_count": null,
   "metadata": {},
   "outputs": [
    {
     "name": "stdout",
     "output_type": "stream",
     "text": [
      "running...1/5: \n",
      "running...2/5: \n",
      "running...3/5: \n",
      "running...4/5: \n",
      "running...5/5: \n"
     ]
    }
   ],
   "source": [
    "# Run the experiments\n",
    "start_time = time.time()\n",
    "for run in range(num_runs):\n",
    "    print(f\"running...{run+1}/{num_runs}: \")\n",
    "    # Initialize algorithms for each run\n",
    "    triest_impr = cs.TriestImpr(sample_size)\n",
    "\n",
    "    # Process the stream\n",
    "    for edge in edges:\n",
    "        triest_impr.process_edge(edge)\n",
    "\n",
    "    # Store results\n",
    "    impr_results.append(triest_impr.estimate())\n",
    "    impr_differences.append(triest_impr.estimate()/ true_triangle_num)\n",
    "\n",
    "end_time = time.time()"
   ]
  },
  {
   "cell_type": "code",
   "execution_count": 40,
   "metadata": {},
   "outputs": [
    {
     "data": {
      "text/plain": [
       "47.68879170417786"
      ]
     },
     "execution_count": 40,
     "metadata": {},
     "output_type": "execute_result"
    }
   ],
   "source": [
    "impr_time_avg = (end_time - start_time) / num_runs\n",
    "impr_time_avg"
   ]
  },
  {
   "cell_type": "code",
   "execution_count": 41,
   "metadata": {},
   "outputs": [
    {
     "data": {
      "text/plain": [
       "17926111.6"
      ]
     },
     "execution_count": 41,
     "metadata": {},
     "output_type": "execute_result"
    }
   ],
   "source": [
    "impr_avg = sum(impr_results) / num_runs\n",
    "impr_avg"
   ]
  },
  {
   "cell_type": "code",
   "execution_count": 42,
   "metadata": {},
   "outputs": [
    {
     "data": {
      "text/plain": [
       "1.5822546732756235"
      ]
     },
     "execution_count": 42,
     "metadata": {},
     "output_type": "execute_result"
    }
   ],
   "source": [
    "impr_avg_differences = sum(impr_differences) / num_runs\n",
    "impr_avg_differences"
   ]
  },
  {
   "cell_type": "code",
   "execution_count": 63,
   "metadata": {},
   "outputs": [
    {
     "name": "stdout",
     "output_type": "stream",
     "text": [
      "TRIÈST-BASE Results:\n",
      "  Average Time Taken: 39.37 seconds\n",
      "  Individual Estimates:  [13609713, 13609713, 21169088, 21169088, 30240211, 30240211]\n",
      "  Average Estimate:  24449189.8\n",
      "  Average Estimate difference:  2.1580165114476197\n",
      "\n",
      "TRIÈST-IMPR Results:\n",
      "  Average Time Taken: 47.69 seconds\n",
      "  Individual Estimates:  [17043178, 17043178, 16886393, 16886393, 17312065, 17312065]\n",
      "  Average Estimate:  17926111.6\n",
      "  Average Estimate difference:  1.5822546732756235\n"
     ]
    }
   ],
   "source": [
    "# Output results\n",
    "print(\"TRIÈST-BASE Results:\")\n",
    "print(f\"  Average Time Taken: {base_time_avg:.2f} seconds\")\n",
    "print(\"  Individual Estimates: \", base_results)\n",
    "print(\"  Average Estimate: \", base_avg)\n",
    "print(\"  Average Estimate difference: \", base_avg_differences)\n",
    "\n",
    "\n",
    "print(\"\\nTRIÈST-IMPR Results:\")\n",
    "print(f\"  Average Time Taken: {impr_time_avg:.2f} seconds\")\n",
    "print(\"  Individual Estimates: \", impr_results)\n",
    "print(\"  Average Estimate: \", impr_avg)\n",
    "print(\"  Average Estimate difference: \", impr_avg_differences)"
   ]
  },
  {
   "cell_type": "code",
   "execution_count": 99,
   "metadata": {},
   "outputs": [],
   "source": [
    "M_values = [1000, 2000, 5000, 10000, 20000]  # M from 1000 to 20000 in steps of 1000"
   ]
  },
  {
   "cell_type": "code",
   "execution_count": 100,
   "metadata": {},
   "outputs": [],
   "source": [
    "base_estimates = []\n",
    "impr_estimates = []\n",
    "base_times = []\n",
    "impr_times = []"
   ]
  },
  {
   "cell_type": "code",
   "execution_count": 101,
   "metadata": {},
   "outputs": [
    {
     "name": "stdout",
     "output_type": "stream",
     "text": [
      "Testing sample size M = 1000...\n",
      "Testing sample size M = 2000...\n",
      "Testing sample size M = 5000...\n",
      "Testing sample size M = 10000...\n",
      "Testing sample size M = 20000...\n"
     ]
    }
   ],
   "source": [
    "# Run experiments for each M\n",
    "for sample_size in M_values:\n",
    "    print(f\"Testing sample size M = {sample_size}...\")\n",
    "    base_results = []\n",
    "    impr_results = []\n",
    "    base_time_total = 0\n",
    "    impr_time_total = 0\n",
    "\n",
    "        \n",
    "    # Initialize algorithms\n",
    "    triest_base = cs.TriestBase(sample_size)\n",
    "    triest_impr = cs.TriestImpr(sample_size)\n",
    "    \n",
    "    # Time TRIÈST-BASE\n",
    "    start_time = time.time()\n",
    "    for edge in edges:\n",
    "        triest_base.process_edge(edge)\n",
    "    base_time_total += time.time() - start_time\n",
    "\n",
    "    # Time TRIÈST-IMPR\n",
    "    start_time = time.time()\n",
    "    for edge in edges:\n",
    "        triest_impr.process_edge(edge)\n",
    "    impr_time_total += time.time() - start_time\n",
    "\n",
    "    # Record results\n",
    "    base_estimates.append(triest_base.estimate())\n",
    "    impr_estimates.append(triest_impr.estimate())\n",
    "    base_times.append(base_time_total)\n",
    "    impr_times.append(impr_time_total)\n"
   ]
  },
  {
   "cell_type": "code",
   "execution_count": 103,
   "metadata": {},
   "outputs": [
    {
     "data": {
      "image/png": "[encoded data removed]",
      "text/plain": [
       "<Figure size 600x500 with 1 Axes>"
      ]
     },
     "metadata": {},
     "output_type": "display_data"
    }
   ],
   "source": [
    "plt.figure(figsize=(6, 5))\n",
    "\n",
    "# Time Taken\n",
    "plt.plot(M_values, base_times, label=\"TRIÈST-BASE\", marker='o')\n",
    "plt.plot(M_values, impr_times, label=\"TRIÈST-IMPR\", marker='s')\n",
    "plt.title(\"Time Taken vs Sample Size (M)\")\n",
    "plt.xlabel(\"Sample Size (M)\")\n",
    "plt.ylabel(\"Average Time Taken (seconds)\")\n",
    "plt.legend()\n",
    "plt.grid(True)\n",
    "\n",
    "plt.show()"
   ]
  },
  {
   "cell_type": "code",
   "execution_count": null,
   "metadata": {},
   "outputs": [],
   "source": []
  },
  {
   "cell_type": "code",
   "execution_count": null,
   "metadata": {},
   "outputs": [],
   "source": []
  }
 ],
 "metadata": {
  "kernelspec": {
   "display_name": "Python 3",
   "language": "python",
   "name": "python3"
  },
  "language_info": {
   "codemirror_mode": {
    "name": "ipython",
    "version": 3
   },
   "file_extension": ".py",
   "mimetype": "text/x-python",
   "name": "python",
   "nbconvert_exporter": "python",
   "pygments_lexer": "ipython3",
   "version": "3.11.5"
  }
 },
 "nbformat": 4,
 "nbformat_minor": 2
}
